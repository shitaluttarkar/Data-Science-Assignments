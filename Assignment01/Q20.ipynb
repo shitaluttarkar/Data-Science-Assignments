{
 "cells": [
  {
   "cell_type": "code",
   "execution_count": 1,
   "id": "8b97b4be",
   "metadata": {
    "ExecuteTime": {
     "end_time": "2023-01-14T19:00:39.122729Z",
     "start_time": "2023-01-14T19:00:36.869345Z"
    }
   },
   "outputs": [],
   "source": [
    "import pandas as pd\n",
    "import numpy as np\n",
    "from scipy import stats\n",
    "from scipy.stats import norm\n",
    "import matplotlib.pyplot as plt\n",
    "%matplotlib inline\n",
    "import seaborn as sns\n",
    "import warnings\n",
    "warnings.filterwarnings('ignore')"
   ]
  },
  {
   "cell_type": "markdown",
   "id": "49cda5a9",
   "metadata": {},
   "source": [
    "Q. Calculate probability from the given dataset for the below cases\n",
    "a.\tP(MPG>38)\n",
    "b.\tP(MPG<40)\n",
    "c.  P (20<MPG<50)"
   ]
  },
  {
   "cell_type": "code",
   "execution_count": 2,
   "id": "199f0d5c",
   "metadata": {
    "ExecuteTime": {
     "end_time": "2023-01-14T19:04:30.050040Z",
     "start_time": "2023-01-14T19:04:27.701167Z"
    }
   },
   "outputs": [],
   "source": [
    "car=pd.read_csv(\"https://raw.githubusercontent.com/aks245/Assignment-Dataset/main/Assignment%201/Cars.csv\")"
   ]
  },
  {
   "cell_type": "code",
   "execution_count": 3,
   "id": "ac7e9a11",
   "metadata": {
    "ExecuteTime": {
     "end_time": "2023-01-14T19:04:32.651615Z",
     "start_time": "2023-01-14T19:04:32.621326Z"
    }
   },
   "outputs": [
    {
     "data": {
      "text/html": [
       "<div>\n",
       "<style scoped>\n",
       "    .dataframe tbody tr th:only-of-type {\n",
       "        vertical-align: middle;\n",
       "    }\n",
       "\n",
       "    .dataframe tbody tr th {\n",
       "        vertical-align: top;\n",
       "    }\n",
       "\n",
       "    .dataframe thead th {\n",
       "        text-align: right;\n",
       "    }\n",
       "</style>\n",
       "<table border=\"1\" class=\"dataframe\">\n",
       "  <thead>\n",
       "    <tr style=\"text-align: right;\">\n",
       "      <th></th>\n",
       "      <th>HP</th>\n",
       "      <th>MPG</th>\n",
       "      <th>VOL</th>\n",
       "      <th>SP</th>\n",
       "      <th>WT</th>\n",
       "    </tr>\n",
       "  </thead>\n",
       "  <tbody>\n",
       "    <tr>\n",
       "      <th>0</th>\n",
       "      <td>49</td>\n",
       "      <td>53.700681</td>\n",
       "      <td>89</td>\n",
       "      <td>104.185353</td>\n",
       "      <td>28.762059</td>\n",
       "    </tr>\n",
       "    <tr>\n",
       "      <th>1</th>\n",
       "      <td>55</td>\n",
       "      <td>50.013401</td>\n",
       "      <td>92</td>\n",
       "      <td>105.461264</td>\n",
       "      <td>30.466833</td>\n",
       "    </tr>\n",
       "    <tr>\n",
       "      <th>2</th>\n",
       "      <td>55</td>\n",
       "      <td>50.013401</td>\n",
       "      <td>92</td>\n",
       "      <td>105.461264</td>\n",
       "      <td>30.193597</td>\n",
       "    </tr>\n",
       "    <tr>\n",
       "      <th>3</th>\n",
       "      <td>70</td>\n",
       "      <td>45.696322</td>\n",
       "      <td>92</td>\n",
       "      <td>113.461264</td>\n",
       "      <td>30.632114</td>\n",
       "    </tr>\n",
       "    <tr>\n",
       "      <th>4</th>\n",
       "      <td>53</td>\n",
       "      <td>50.504232</td>\n",
       "      <td>92</td>\n",
       "      <td>104.461264</td>\n",
       "      <td>29.889149</td>\n",
       "    </tr>\n",
       "  </tbody>\n",
       "</table>\n",
       "</div>"
      ],
      "text/plain": [
       "   HP        MPG  VOL          SP         WT\n",
       "0  49  53.700681   89  104.185353  28.762059\n",
       "1  55  50.013401   92  105.461264  30.466833\n",
       "2  55  50.013401   92  105.461264  30.193597\n",
       "3  70  45.696322   92  113.461264  30.632114\n",
       "4  53  50.504232   92  104.461264  29.889149"
      ]
     },
     "execution_count": 3,
     "metadata": {},
     "output_type": "execute_result"
    }
   ],
   "source": [
    "car.head()"
   ]
  },
  {
   "cell_type": "code",
   "execution_count": 5,
   "id": "ba09db51",
   "metadata": {
    "ExecuteTime": {
     "end_time": "2023-01-14T19:05:18.311818Z",
     "start_time": "2023-01-14T19:05:18.129224Z"
    }
   },
   "outputs": [
    {
     "data": {
      "text/plain": [
       "<AxesSubplot:xlabel='MPG'>"
      ]
     },
     "execution_count": 5,
     "metadata": {},
     "output_type": "execute_result"
    },
    {
     "data": {
      "image/png": "[encoded data removed]",
      "text/plain": [
       "<Figure size 640x480 with 1 Axes>"
      ]
     },
     "metadata": {},
     "output_type": "display_data"
    }
   ],
   "source": [
    "sns.boxplot(car.MPG)"
   ]
  },
  {
   "cell_type": "markdown",
   "id": "4769ab4a",
   "metadata": {},
   "source": [
    "**a. P(MPG>38)**"
   ]
  },
  {
   "cell_type": "code",
   "execution_count": 8,
   "id": "6f81caa0",
   "metadata": {
    "ExecuteTime": {
     "end_time": "2022-12-15T17:25:11.242458Z",
     "start_time": "2022-12-15T17:25:11.211268Z"
    }
   },
   "outputs": [
    {
     "data": {
      "text/plain": [
       "0.3475939251582705"
      ]
     },
     "execution_count": 8,
     "metadata": {},
     "output_type": "execute_result"
    }
   ],
   "source": [
    "1-stats.norm.cdf(38,car.MPG.mean(),car.MPG.std())"
   ]
  },
  {
   "cell_type": "markdown",
   "id": "303a5401",
   "metadata": {},
   "source": [
    "**b. P(MPG<40)**"
   ]
  },
  {
   "cell_type": "code",
   "execution_count": 10,
   "id": "2b054f6a",
   "metadata": {
    "ExecuteTime": {
     "end_time": "2022-12-15T17:27:00.451998Z",
     "start_time": "2022-12-15T17:27:00.435230Z"
    }
   },
   "outputs": [
    {
     "data": {
      "text/plain": [
       "0.7293498762151616"
      ]
     },
     "execution_count": 10,
     "metadata": {},
     "output_type": "execute_result"
    }
   ],
   "source": [
    "stats.norm.cdf(40,car.MPG.mean(),car.MPG.std())"
   ]
  },
  {
   "cell_type": "markdown",
   "id": "28ad3104",
   "metadata": {},
   "source": [
    "**c. P(20<MPG<50)**"
   ]
  },
  {
   "cell_type": "code",
   "execution_count": 12,
   "id": "ea0564f7",
   "metadata": {
    "ExecuteTime": {
     "end_time": "2022-12-15T17:30:32.240198Z",
     "start_time": "2022-12-15T17:30:32.215932Z"
    }
   },
   "outputs": [
    {
     "data": {
      "text/plain": [
       "0.8988689169682046"
      ]
     },
     "execution_count": 12,
     "metadata": {},
     "output_type": "execute_result"
    }
   ],
   "source": [
    "stats.norm.cdf(50,car.MPG.mean(),car.MPG.std())-stats.norm.cdf(20,car.MPG.mean(),car.MPG.std())"
   ]
  }
 ],
 "metadata": {
  "kernelspec": {
   "display_name": "Python 3 (ipykernel)",
   "language": "python",
   "name": "python3"
  },
  "language_info": {
   "codemirror_mode": {
    "name": "ipython",
    "version": 3
   },
   "file_extension": ".py",
   "mimetype": "text/x-python",
   "name": "python",
   "nbconvert_exporter": "python",
   "pygments_lexer": "ipython3",
   "version": "3.9.13"
  }
 },
 "nbformat": 4,
 "nbformat_minor": 5
}
