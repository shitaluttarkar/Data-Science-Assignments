{
 "cells": [
  {
   "cell_type": "code",
   "execution_count": 1,
   "id": "6bd71b85",
   "metadata": {
    "ExecuteTime": {
     "end_time": "2023-01-14T19:39:39.036965Z",
     "start_time": "2023-01-14T19:39:38.814608Z"
    }
   },
   "outputs": [],
   "source": [
    "from scipy import stats\n",
    "from scipy.stats import norm"
   ]
  },
  {
   "cell_type": "markdown",
   "id": "9acba682",
   "metadata": {},
   "source": [
    "Q. A Government company claims that an average light bulb lasts 270 days. A researcher randomly selects 18 bulbs for testing. The sampled bulbs last an average of 260 days, with a standard deviation of 90 days. If the CEO's claim were true, what is the probability that 18 randomly selected bulbs would have an average life of no more than 260 days"
   ]
  },
  {
   "cell_type": "code",
   "execution_count": 2,
   "id": "9dc1ab5c",
   "metadata": {
    "ExecuteTime": {
     "end_time": "2023-01-14T19:40:14.101563Z",
     "start_time": "2023-01-14T19:40:14.070141Z"
    }
   },
   "outputs": [
    {
     "data": {
      "text/plain": [
       "-0.4714045207910317"
      ]
     },
     "execution_count": 2,
     "metadata": {},
     "output_type": "execute_result"
    }
   ],
   "source": [
    "t=(260-270)/(90/18**0.5)\n",
    "t"
   ]
  },
  {
   "cell_type": "code",
   "execution_count": 3,
   "id": "c6858942",
   "metadata": {
    "ExecuteTime": {
     "end_time": "2023-01-14T19:40:27.556491Z",
     "start_time": "2023-01-14T19:40:27.531816Z"
    }
   },
   "outputs": [
    {
     "data": {
      "text/plain": [
       "0.32167411684460556"
      ]
     },
     "execution_count": 3,
     "metadata": {},
     "output_type": "execute_result"
    }
   ],
   "source": [
    "p_value=1-stats.t.cdf(abs(-0.4714),df=17)\n",
    "p_value"
   ]
  },
  {
   "cell_type": "code",
   "execution_count": 4,
   "id": "ea892ac3",
   "metadata": {
    "ExecuteTime": {
     "end_time": "2023-01-14T19:40:34.676391Z",
     "start_time": "2023-01-14T19:40:34.652246Z"
    }
   },
   "outputs": [
    {
     "data": {
      "text/plain": [
       "0.32167411684460556"
      ]
     },
     "execution_count": 4,
     "metadata": {},
     "output_type": "execute_result"
    }
   ],
   "source": [
    "p_value=stats.t.sf(abs(-0.4714),df=17)\n",
    "p_value"
   ]
  }
 ],
 "metadata": {
  "kernelspec": {
   "display_name": "Python 3 (ipykernel)",
   "language": "python",
   "name": "python3"
  },
  "language_info": {
   "codemirror_mode": {
    "name": "ipython",
    "version": 3
   },
   "file_extension": ".py",
   "mimetype": "text/x-python",
   "name": "python",
   "nbconvert_exporter": "python",
   "pygments_lexer": "ipython3",
   "version": "3.9.13"
  }
 },
 "nbformat": 4,
 "nbformat_minor": 5
}
