{
 "cells": [
  {
   "cell_type": "code",
   "execution_count": 1,
   "id": "dbcaaa04",
   "metadata": {
    "ExecuteTime": {
     "end_time": "2023-01-14T18:46:11.369806Z",
     "start_time": "2023-01-14T18:46:09.449352Z"
    }
   },
   "outputs": [],
   "source": [
    "import pandas as pd\n",
    "import matplotlib.pyplot as plt\n",
    "%matplotlib inline"
   ]
  },
  {
   "cell_type": "markdown",
   "id": "28888648",
   "metadata": {},
   "source": [
    "Q. Below are the scores obtained by a student in tests \n",
    "34,36,36,38,38,39,39,40,40,41,41,41,41,42,42,45,49,56\n",
    "1)\tFind mean, median, variance, standard deviation.\n",
    "2)\tWhat can we say about the student marks? "
   ]
  },
  {
   "cell_type": "code",
   "execution_count": 2,
   "id": "a9558be1",
   "metadata": {
    "ExecuteTime": {
     "end_time": "2023-01-14T18:46:11.386781Z",
     "start_time": "2023-01-14T18:46:11.369806Z"
    }
   },
   "outputs": [],
   "source": [
    "a=pd.Series([34,36,36,38,38,39,39,40,40,41,41,41,41,42,42,45,49,56])"
   ]
  },
  {
   "cell_type": "code",
   "execution_count": 3,
   "id": "53c77b15",
   "metadata": {
    "ExecuteTime": {
     "end_time": "2023-01-14T18:46:11.418810Z",
     "start_time": "2023-01-14T18:46:11.386781Z"
    }
   },
   "outputs": [
    {
     "data": {
      "text/plain": [
       "0     34\n",
       "1     36\n",
       "2     36\n",
       "3     38\n",
       "4     38\n",
       "5     39\n",
       "6     39\n",
       "7     40\n",
       "8     40\n",
       "9     41\n",
       "10    41\n",
       "11    41\n",
       "12    41\n",
       "13    42\n",
       "14    42\n",
       "15    45\n",
       "16    49\n",
       "17    56\n",
       "dtype: int64"
      ]
     },
     "execution_count": 3,
     "metadata": {},
     "output_type": "execute_result"
    }
   ],
   "source": [
    "a"
   ]
  },
  {
   "cell_type": "code",
   "execution_count": 4,
   "id": "2e24cec2",
   "metadata": {
    "ExecuteTime": {
     "end_time": "2023-01-14T18:46:11.435241Z",
     "start_time": "2023-01-14T18:46:11.418810Z"
    }
   },
   "outputs": [
    {
     "data": {
      "text/plain": [
       "41.0"
      ]
     },
     "execution_count": 4,
     "metadata": {},
     "output_type": "execute_result"
    }
   ],
   "source": [
    "a.mean()"
   ]
  },
  {
   "cell_type": "code",
   "execution_count": 5,
   "id": "cf990735",
   "metadata": {
    "ExecuteTime": {
     "end_time": "2023-01-14T18:46:11.451268Z",
     "start_time": "2023-01-14T18:46:11.435241Z"
    }
   },
   "outputs": [
    {
     "data": {
      "text/plain": [
       "40.5"
      ]
     },
     "execution_count": 5,
     "metadata": {},
     "output_type": "execute_result"
    }
   ],
   "source": [
    "a.median()"
   ]
  },
  {
   "cell_type": "code",
   "execution_count": 6,
   "id": "8967533f",
   "metadata": {
    "ExecuteTime": {
     "end_time": "2023-01-14T18:46:11.467296Z",
     "start_time": "2023-01-14T18:46:11.451268Z"
    }
   },
   "outputs": [
    {
     "data": {
      "text/plain": [
       "25.529411764705884"
      ]
     },
     "execution_count": 6,
     "metadata": {},
     "output_type": "execute_result"
    }
   ],
   "source": [
    "a.var()"
   ]
  },
  {
   "cell_type": "code",
   "execution_count": 7,
   "id": "466b2839",
   "metadata": {
    "ExecuteTime": {
     "end_time": "2023-01-14T18:46:11.482852Z",
     "start_time": "2023-01-14T18:46:11.467296Z"
    }
   },
   "outputs": [
    {
     "data": {
      "text/plain": [
       "5.05266382858645"
      ]
     },
     "execution_count": 7,
     "metadata": {},
     "output_type": "execute_result"
    }
   ],
   "source": [
    "a.std()"
   ]
  },
  {
   "cell_type": "code",
   "execution_count": 8,
   "id": "ede3d487",
   "metadata": {
    "ExecuteTime": {
     "end_time": "2023-01-14T18:46:11.643748Z",
     "start_time": "2023-01-14T18:46:11.482852Z"
    }
   },
   "outputs": [
    {
     "data": {
      "image/png": "[encoded data removed]",
      "text/plain": [
       "<Figure size 640x480 with 1 Axes>"
      ]
     },
     "metadata": {},
     "output_type": "display_data"
    }
   ],
   "source": [
    "plt.boxplot(a)\n",
    "plt.grid()"
   ]
  },
  {
   "cell_type": "markdown",
   "id": "b5e2d8a6",
   "metadata": {},
   "source": [
    "From above box plot we can say majority of student have marks around 40 and by looking at outlaiers there are 2 students with high marks."
   ]
  }
 ],
 "metadata": {
  "kernelspec": {
   "display_name": "Python 3 (ipykernel)",
   "language": "python",
   "name": "python3"
  },
  "language_info": {
   "codemirror_mode": {
    "name": "ipython",
    "version": 3
   },
   "file_extension": ".py",
   "mimetype": "text/x-python",
   "name": "python",
   "nbconvert_exporter": "python",
   "pygments_lexer": "ipython3",
   "version": "3.9.13"
  }
 },
 "nbformat": 4,
 "nbformat_minor": 5
}
