{
 "cells": [
  {
   "cell_type": "code",
   "execution_count": 1,
   "id": "641ce317",
   "metadata": {
    "ExecuteTime": {
     "end_time": "2023-01-14T10:03:13.891062Z",
     "start_time": "2023-01-14T10:03:12.101419Z"
    }
   },
   "outputs": [],
   "source": [
    "import pandas as pd\n",
    "import numpy as np\n",
    "import seaborn as sns\n",
    "from scipy import stats\n",
    "import matplotlib.pyplot as plt\n",
    "%matplotlib inline\n",
    "import warnings\n",
    "warnings.filterwarnings('ignore')"
   ]
  },
  {
   "cell_type": "markdown",
   "id": "955ff0d6",
   "metadata": {},
   "source": [
    "Q. Calculate Mean, Median, Mode, Variance, Standard Deviation, Range &     comment about the values / draw inferences, for the given dataset"
   ]
  },
  {
   "cell_type": "markdown",
   "id": "46cf0ac8",
   "metadata": {},
   "source": [
    "# Importing Data"
   ]
  },
  {
   "cell_type": "code",
   "execution_count": 2,
   "id": "283057de",
   "metadata": {
    "ExecuteTime": {
     "end_time": "2023-01-14T10:03:14.445431Z",
     "start_time": "2023-01-14T10:03:13.891062Z"
    }
   },
   "outputs": [],
   "source": [
    "Q = pd.read_csv('https://raw.githubusercontent.com/aks245/Assignment-Dataset/main/Assignment%201/Q7.csv')"
   ]
  },
  {
   "cell_type": "code",
   "execution_count": 3,
   "id": "e6197410",
   "metadata": {
    "ExecuteTime": {
     "end_time": "2023-01-14T10:03:14.467500Z",
     "start_time": "2023-01-14T10:03:14.445431Z"
    }
   },
   "outputs": [
    {
     "data": {
      "text/html": [
       "<div>\n",
       "<style scoped>\n",
       "    .dataframe tbody tr th:only-of-type {\n",
       "        vertical-align: middle;\n",
       "    }\n",
       "\n",
       "    .dataframe tbody tr th {\n",
       "        vertical-align: top;\n",
       "    }\n",
       "\n",
       "    .dataframe thead th {\n",
       "        text-align: right;\n",
       "    }\n",
       "</style>\n",
       "<table border=\"1\" class=\"dataframe\">\n",
       "  <thead>\n",
       "    <tr style=\"text-align: right;\">\n",
       "      <th></th>\n",
       "      <th>Unnamed: 0</th>\n",
       "      <th>Points</th>\n",
       "      <th>Score</th>\n",
       "      <th>Weigh</th>\n",
       "    </tr>\n",
       "  </thead>\n",
       "  <tbody>\n",
       "    <tr>\n",
       "      <th>0</th>\n",
       "      <td>Mazda RX4</td>\n",
       "      <td>3.90</td>\n",
       "      <td>2.620</td>\n",
       "      <td>16.46</td>\n",
       "    </tr>\n",
       "    <tr>\n",
       "      <th>1</th>\n",
       "      <td>Mazda RX4 Wag</td>\n",
       "      <td>3.90</td>\n",
       "      <td>2.875</td>\n",
       "      <td>17.02</td>\n",
       "    </tr>\n",
       "    <tr>\n",
       "      <th>2</th>\n",
       "      <td>Datsun 710</td>\n",
       "      <td>3.85</td>\n",
       "      <td>2.320</td>\n",
       "      <td>18.61</td>\n",
       "    </tr>\n",
       "    <tr>\n",
       "      <th>3</th>\n",
       "      <td>Hornet 4 Drive</td>\n",
       "      <td>3.08</td>\n",
       "      <td>3.215</td>\n",
       "      <td>19.44</td>\n",
       "    </tr>\n",
       "    <tr>\n",
       "      <th>4</th>\n",
       "      <td>Hornet Sportabout</td>\n",
       "      <td>3.15</td>\n",
       "      <td>3.440</td>\n",
       "      <td>17.02</td>\n",
       "    </tr>\n",
       "  </tbody>\n",
       "</table>\n",
       "</div>"
      ],
      "text/plain": [
       "          Unnamed: 0  Points  Score  Weigh\n",
       "0          Mazda RX4    3.90  2.620  16.46\n",
       "1      Mazda RX4 Wag    3.90  2.875  17.02\n",
       "2         Datsun 710    3.85  2.320  18.61\n",
       "3     Hornet 4 Drive    3.08  3.215  19.44\n",
       "4  Hornet Sportabout    3.15  3.440  17.02"
      ]
     },
     "execution_count": 3,
     "metadata": {},
     "output_type": "execute_result"
    }
   ],
   "source": [
    "Q.head()"
   ]
  },
  {
   "cell_type": "markdown",
   "id": "41f84eb3",
   "metadata": {},
   "source": [
    "# Mean"
   ]
  },
  {
   "cell_type": "code",
   "execution_count": 4,
   "id": "7d85f951",
   "metadata": {
    "ExecuteTime": {
     "end_time": "2023-01-14T10:03:14.483358Z",
     "start_time": "2023-01-14T10:03:14.470334Z"
    }
   },
   "outputs": [
    {
     "data": {
      "text/plain": [
       "Points     3.596563\n",
       "Score      3.217250\n",
       "Weigh     17.848750\n",
       "dtype: float64"
      ]
     },
     "execution_count": 4,
     "metadata": {},
     "output_type": "execute_result"
    }
   ],
   "source": [
    "Q.mean()"
   ]
  },
  {
   "cell_type": "markdown",
   "id": "41104cda",
   "metadata": {
    "ExecuteTime": {
     "end_time": "2022-12-14T13:26:02.220962Z",
     "start_time": "2022-12-14T13:26:02.202439Z"
    }
   },
   "source": [
    "# Median"
   ]
  },
  {
   "cell_type": "code",
   "execution_count": 5,
   "id": "922d57d0",
   "metadata": {
    "ExecuteTime": {
     "end_time": "2023-01-14T10:03:14.498906Z",
     "start_time": "2023-01-14T10:03:14.485938Z"
    }
   },
   "outputs": [
    {
     "data": {
      "text/plain": [
       "Points     3.695\n",
       "Score      3.325\n",
       "Weigh     17.710\n",
       "dtype: float64"
      ]
     },
     "execution_count": 5,
     "metadata": {},
     "output_type": "execute_result"
    }
   ],
   "source": [
    "Q.median()"
   ]
  },
  {
   "cell_type": "markdown",
   "id": "91390897",
   "metadata": {},
   "source": [
    "# Mode"
   ]
  },
  {
   "cell_type": "code",
   "execution_count": 6,
   "id": "c9d66622",
   "metadata": {
    "ExecuteTime": {
     "end_time": "2023-01-14T10:03:14.514430Z",
     "start_time": "2023-01-14T10:03:14.502088Z"
    }
   },
   "outputs": [
    {
     "data": {
      "text/plain": [
       "0    3.07\n",
       "1    3.92\n",
       "Name: Points, dtype: float64"
      ]
     },
     "execution_count": 6,
     "metadata": {},
     "output_type": "execute_result"
    }
   ],
   "source": [
    "Q.Points.mode()"
   ]
  },
  {
   "cell_type": "code",
   "execution_count": 7,
   "id": "995c7b9a",
   "metadata": {
    "ExecuteTime": {
     "end_time": "2023-01-14T10:03:14.529804Z",
     "start_time": "2023-01-14T10:03:14.516781Z"
    }
   },
   "outputs": [
    {
     "data": {
      "text/plain": [
       "0    3.44\n",
       "Name: Score, dtype: float64"
      ]
     },
     "execution_count": 7,
     "metadata": {},
     "output_type": "execute_result"
    }
   ],
   "source": [
    "Q.Score.mode()"
   ]
  },
  {
   "cell_type": "code",
   "execution_count": 8,
   "id": "f14f612a",
   "metadata": {
    "ExecuteTime": {
     "end_time": "2023-01-14T10:03:14.544469Z",
     "start_time": "2023-01-14T10:03:14.532559Z"
    }
   },
   "outputs": [
    {
     "data": {
      "text/plain": [
       "0    17.02\n",
       "1    18.90\n",
       "Name: Weigh, dtype: float64"
      ]
     },
     "execution_count": 8,
     "metadata": {},
     "output_type": "execute_result"
    }
   ],
   "source": [
    "Q.Weigh.mode()"
   ]
  },
  {
   "cell_type": "markdown",
   "id": "b7d185aa",
   "metadata": {},
   "source": [
    "# Variance"
   ]
  },
  {
   "cell_type": "code",
   "execution_count": 9,
   "id": "f5236602",
   "metadata": {
    "ExecuteTime": {
     "end_time": "2023-01-14T10:03:14.559655Z",
     "start_time": "2023-01-14T10:03:14.547838Z"
    }
   },
   "outputs": [
    {
     "data": {
      "text/plain": [
       "Points    0.285881\n",
       "Score     0.957379\n",
       "Weigh     3.193166\n",
       "dtype: float64"
      ]
     },
     "execution_count": 9,
     "metadata": {},
     "output_type": "execute_result"
    }
   ],
   "source": [
    "Q.var()"
   ]
  },
  {
   "cell_type": "markdown",
   "id": "9e01d249",
   "metadata": {},
   "source": [
    "# Standard deviation"
   ]
  },
  {
   "cell_type": "code",
   "execution_count": 10,
   "id": "5dcf622f",
   "metadata": {
    "ExecuteTime": {
     "end_time": "2023-01-14T10:03:14.575762Z",
     "start_time": "2023-01-14T10:03:14.563750Z"
    }
   },
   "outputs": [
    {
     "data": {
      "text/plain": [
       "Points    0.534679\n",
       "Score     0.978457\n",
       "Weigh     1.786943\n",
       "dtype: float64"
      ]
     },
     "execution_count": 10,
     "metadata": {},
     "output_type": "execute_result"
    }
   ],
   "source": [
    "Q.std()"
   ]
  },
  {
   "cell_type": "markdown",
   "id": "2e00eec1",
   "metadata": {},
   "source": [
    "# Range"
   ]
  },
  {
   "cell_type": "code",
   "execution_count": 11,
   "id": "b0c82323",
   "metadata": {
    "ExecuteTime": {
     "end_time": "2023-01-14T10:03:14.590954Z",
     "start_time": "2023-01-14T10:03:14.577767Z"
    }
   },
   "outputs": [
    {
     "data": {
      "text/html": [
       "<div>\n",
       "<style scoped>\n",
       "    .dataframe tbody tr th:only-of-type {\n",
       "        vertical-align: middle;\n",
       "    }\n",
       "\n",
       "    .dataframe tbody tr th {\n",
       "        vertical-align: top;\n",
       "    }\n",
       "\n",
       "    .dataframe thead th {\n",
       "        text-align: right;\n",
       "    }\n",
       "</style>\n",
       "<table border=\"1\" class=\"dataframe\">\n",
       "  <thead>\n",
       "    <tr style=\"text-align: right;\">\n",
       "      <th></th>\n",
       "      <th>Points</th>\n",
       "      <th>Score</th>\n",
       "      <th>Weigh</th>\n",
       "    </tr>\n",
       "  </thead>\n",
       "  <tbody>\n",
       "    <tr>\n",
       "      <th>count</th>\n",
       "      <td>32.000000</td>\n",
       "      <td>32.000000</td>\n",
       "      <td>32.000000</td>\n",
       "    </tr>\n",
       "    <tr>\n",
       "      <th>mean</th>\n",
       "      <td>3.596563</td>\n",
       "      <td>3.217250</td>\n",
       "      <td>17.848750</td>\n",
       "    </tr>\n",
       "    <tr>\n",
       "      <th>std</th>\n",
       "      <td>0.534679</td>\n",
       "      <td>0.978457</td>\n",
       "      <td>1.786943</td>\n",
       "    </tr>\n",
       "    <tr>\n",
       "      <th>min</th>\n",
       "      <td>2.760000</td>\n",
       "      <td>1.513000</td>\n",
       "      <td>14.500000</td>\n",
       "    </tr>\n",
       "    <tr>\n",
       "      <th>25%</th>\n",
       "      <td>3.080000</td>\n",
       "      <td>2.581250</td>\n",
       "      <td>16.892500</td>\n",
       "    </tr>\n",
       "    <tr>\n",
       "      <th>50%</th>\n",
       "      <td>3.695000</td>\n",
       "      <td>3.325000</td>\n",
       "      <td>17.710000</td>\n",
       "    </tr>\n",
       "    <tr>\n",
       "      <th>75%</th>\n",
       "      <td>3.920000</td>\n",
       "      <td>3.610000</td>\n",
       "      <td>18.900000</td>\n",
       "    </tr>\n",
       "    <tr>\n",
       "      <th>max</th>\n",
       "      <td>4.930000</td>\n",
       "      <td>5.424000</td>\n",
       "      <td>22.900000</td>\n",
       "    </tr>\n",
       "  </tbody>\n",
       "</table>\n",
       "</div>"
      ],
      "text/plain": [
       "          Points      Score      Weigh\n",
       "count  32.000000  32.000000  32.000000\n",
       "mean    3.596563   3.217250  17.848750\n",
       "std     0.534679   0.978457   1.786943\n",
       "min     2.760000   1.513000  14.500000\n",
       "25%     3.080000   2.581250  16.892500\n",
       "50%     3.695000   3.325000  17.710000\n",
       "75%     3.920000   3.610000  18.900000\n",
       "max     4.930000   5.424000  22.900000"
      ]
     },
     "execution_count": 11,
     "metadata": {},
     "output_type": "execute_result"
    }
   ],
   "source": [
    "Q.describe()"
   ]
  },
  {
   "cell_type": "code",
   "execution_count": 12,
   "id": "98ab74d4",
   "metadata": {
    "ExecuteTime": {
     "end_time": "2023-01-14T10:03:14.606213Z",
     "start_time": "2023-01-14T10:03:14.592994Z"
    }
   },
   "outputs": [
    {
     "name": "stdout",
     "output_type": "stream",
     "text": [
      "Points range=\n"
     ]
    },
    {
     "data": {
      "text/plain": [
       "2.17"
      ]
     },
     "execution_count": 12,
     "metadata": {},
     "output_type": "execute_result"
    }
   ],
   "source": [
    "Points_Range=Q.Points.max()-Q.Points.min()\n",
    "print('Points range=')\n",
    "Points_Range"
   ]
  },
  {
   "cell_type": "code",
   "execution_count": 13,
   "id": "d2f4cc0a",
   "metadata": {
    "ExecuteTime": {
     "end_time": "2023-01-14T10:03:14.621342Z",
     "start_time": "2023-01-14T10:03:14.608420Z"
    }
   },
   "outputs": [
    {
     "name": "stdout",
     "output_type": "stream",
     "text": [
      "Score range =\n"
     ]
    },
    {
     "data": {
      "text/plain": [
       "3.9110000000000005"
      ]
     },
     "execution_count": 13,
     "metadata": {},
     "output_type": "execute_result"
    }
   ],
   "source": [
    "Score_Range=Q.Score.max()-Q.Score.min()\n",
    "print('Score range =')\n",
    "Score_Range"
   ]
  },
  {
   "cell_type": "code",
   "execution_count": 14,
   "id": "e36f6303",
   "metadata": {
    "ExecuteTime": {
     "end_time": "2023-01-14T10:03:14.636748Z",
     "start_time": "2023-01-14T10:03:14.623369Z"
    }
   },
   "outputs": [
    {
     "name": "stdout",
     "output_type": "stream",
     "text": [
      "Weigh Range = \n"
     ]
    },
    {
     "data": {
      "text/plain": [
       "8.399999999999999"
      ]
     },
     "execution_count": 14,
     "metadata": {},
     "output_type": "execute_result"
    }
   ],
   "source": [
    "Weigh_Range=Q.Weigh.max()-Q.Weigh.min()\n",
    "print('Weigh Range = ')\n",
    "Weigh_Range"
   ]
  },
  {
   "cell_type": "code",
   "execution_count": 15,
   "id": "54a0c136",
   "metadata": {
    "ExecuteTime": {
     "end_time": "2023-01-14T10:03:14.870943Z",
     "start_time": "2023-01-14T10:03:14.638752Z"
    }
   },
   "outputs": [
    {
     "data": {
      "text/plain": [
       "Text(0.5, 1.0, 'Weigh')"
      ]
     },
     "execution_count": 15,
     "metadata": {},
     "output_type": "execute_result"
    },
    {
     "data": {
      "image/png": "[encoded data removed]",
      "text/plain": [
       "<Figure size 1500x500 with 3 Axes>"
      ]
     },
     "metadata": {},
     "output_type": "display_data"
    }
   ],
   "source": [
    "f,ax=plt.subplots(figsize=(15,5))\n",
    "plt.subplot(1,3,1)\n",
    "plt.boxplot(Q.Points)\n",
    "plt.title('Points')\n",
    "plt.subplot(1,3,2)\n",
    "plt.boxplot(Q.Score)\n",
    "plt.title('Score')\n",
    "plt.subplot(1,3,3)\n",
    "plt.boxplot(Q.Weigh)\n",
    "plt.title('Weigh')"
   ]
  },
  {
   "cell_type": "markdown",
   "id": "95088369",
   "metadata": {},
   "source": [
    "**In Points**\n",
    "The distribution is Positively Skewed and there is no outliers"
   ]
  },
  {
   "cell_type": "markdown",
   "id": "dc0a84ec",
   "metadata": {},
   "source": [
    "**In Score** \n",
    "The distribution is Positively Skewed and there are some outliers on upper side"
   ]
  },
  {
   "cell_type": "markdown",
   "id": "8e90ba97",
   "metadata": {},
   "source": [
    "**In Weigh** The distribution is positively Skewed and there is a outlier on upper side"
   ]
  },
  {
   "cell_type": "code",
   "execution_count": null,
   "id": "f7b2619c",
   "metadata": {},
   "outputs": [],
   "source": []
  }
 ],
 "metadata": {
  "kernelspec": {
   "display_name": "Python 3 (ipykernel)",
   "language": "python",
   "name": "python3"
  },
  "language_info": {
   "codemirror_mode": {
    "name": "ipython",
    "version": 3
   },
   "file_extension": ".py",
   "mimetype": "text/x-python",
   "name": "python",
   "nbconvert_exporter": "python",
   "pygments_lexer": "ipython3",
   "version": "3.9.13"
  }
 },
 "nbformat": 4,
 "nbformat_minor": 5
}
