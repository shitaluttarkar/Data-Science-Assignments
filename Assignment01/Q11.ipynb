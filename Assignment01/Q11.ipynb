{
 "cells": [
  {
   "cell_type": "code",
   "execution_count": 2,
   "id": "ae11e99f",
   "metadata": {
    "ExecuteTime": {
     "end_time": "2022-12-15T16:01:59.878948Z",
     "start_time": "2022-12-15T16:01:59.863491Z"
    }
   },
   "outputs": [],
   "source": [
    "from scipy import stats\n",
    "from scipy.stats import norm"
   ]
  },
  {
   "cell_type": "markdown",
   "id": "e955831d",
   "metadata": {},
   "source": [
    "**Q. Suppose we want to estimate the average weight of an adult male in    Mexico. We draw a random sample of 2,000 men from a population of 3,000,000 men and weigh them. We find that the average person in our sample weighs 200 pounds, and the standard deviation of the sample is 30 pounds. Calculate 94%,98%,96% confidence interval?**"
   ]
  },
  {
   "cell_type": "code",
   "execution_count": null,
   "id": "902bfde4",
   "metadata": {},
   "outputs": [],
   "source": [
    "#N=3000000\n",
    "#n=2000\n",
    "#x=200\n",
    "#s=30"
   ]
  },
  {
   "cell_type": "markdown",
   "id": "b386e515",
   "metadata": {},
   "source": [
    "**With CI 94%**"
   ]
  },
  {
   "cell_type": "code",
   "execution_count": 3,
   "id": "d3c9127e",
   "metadata": {
    "ExecuteTime": {
     "end_time": "2022-12-15T16:04:43.716938Z",
     "start_time": "2022-12-15T16:04:43.671992Z"
    }
   },
   "outputs": [
    {
     "data": {
      "text/plain": [
       "(198.738325292158, 201.261674707842)"
      ]
     },
     "execution_count": 3,
     "metadata": {},
     "output_type": "execute_result"
    }
   ],
   "source": [
    "stats.norm.interval(0.94,200,30/(2000**0.5))"
   ]
  },
  {
   "cell_type": "markdown",
   "id": "b5422aab",
   "metadata": {},
   "source": [
    "**With CI 98%**"
   ]
  },
  {
   "cell_type": "code",
   "execution_count": 9,
   "id": "b0011907",
   "metadata": {
    "ExecuteTime": {
     "end_time": "2022-12-15T16:09:48.743291Z",
     "start_time": "2022-12-15T16:09:48.722617Z"
    }
   },
   "outputs": [
    {
     "data": {
      "text/plain": [
       "(198.43943840429978, 201.56056159570022)"
      ]
     },
     "execution_count": 9,
     "metadata": {},
     "output_type": "execute_result"
    }
   ],
   "source": [
    "stats.norm.interval(0.98,200,30/(2000**0.5))"
   ]
  },
  {
   "cell_type": "markdown",
   "id": "b52ecac0",
   "metadata": {
    "ExecuteTime": {
     "end_time": "2022-12-15T16:32:16.557898Z",
     "start_time": "2022-12-15T16:32:16.534267Z"
    }
   },
   "source": [
    "**With CI 96%**"
   ]
  },
  {
   "cell_type": "code",
   "execution_count": 16,
   "id": "e0911d33",
   "metadata": {
    "ExecuteTime": {
     "end_time": "2022-12-15T16:32:51.203314Z",
     "start_time": "2022-12-15T16:32:51.175807Z"
    }
   },
   "outputs": [
    {
     "data": {
      "text/plain": [
       "(198.62230334813333, 201.37769665186667)"
      ]
     },
     "execution_count": 16,
     "metadata": {},
     "output_type": "execute_result"
    }
   ],
   "source": [
    "stats.norm.interval(0.96,200,30/(2000**0.5))"
   ]
  }
 ],
 "metadata": {
  "kernelspec": {
   "display_name": "Python 3 (ipykernel)",
   "language": "python",
   "name": "python3"
  },
  "language_info": {
   "codemirror_mode": {
    "name": "ipython",
    "version": 3
   },
   "file_extension": ".py",
   "mimetype": "text/x-python",
   "name": "python",
   "nbconvert_exporter": "python",
   "pygments_lexer": "ipython3",
   "version": "3.9.13"
  }
 },
 "nbformat": 4,
 "nbformat_minor": 5
}
