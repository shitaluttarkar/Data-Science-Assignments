{
 "cells": [
  {
   "cell_type": "code",
   "execution_count": 1,
   "id": "0ba679c3",
   "metadata": {
    "ExecuteTime": {
     "end_time": "2023-01-14T19:33:00.609945Z",
     "start_time": "2023-01-14T19:33:00.377897Z"
    }
   },
   "outputs": [],
   "source": [
    "from scipy import stats\n",
    "from scipy.stats import norm"
   ]
  },
  {
   "cell_type": "markdown",
   "id": "a29ee490",
   "metadata": {},
   "source": [
    "Q. Calculate the t scores of 95% confidence interval, 96% confidence interval, 99% confidence interval for sample size of 25"
   ]
  },
  {
   "cell_type": "markdown",
   "id": "2d4c99d9",
   "metadata": {},
   "source": [
    "**t scores of 95% confidence interval for sample size of 25**"
   ]
  },
  {
   "cell_type": "code",
   "execution_count": 2,
   "id": "2b6f4396",
   "metadata": {
    "ExecuteTime": {
     "end_time": "2023-01-14T19:36:02.149330Z",
     "start_time": "2023-01-14T19:36:02.111382Z"
    }
   },
   "outputs": [
    {
     "data": {
      "text/plain": [
       "1.7108820799094275"
      ]
     },
     "execution_count": 2,
     "metadata": {},
     "output_type": "execute_result"
    }
   ],
   "source": [
    "stats.t.ppf(0.95,24)"
   ]
  },
  {
   "cell_type": "markdown",
   "id": "58c1bccb",
   "metadata": {},
   "source": [
    "**t scores of 96% confidence interval for sample size of 25**"
   ]
  },
  {
   "cell_type": "code",
   "execution_count": 3,
   "id": "e1dedc4a",
   "metadata": {
    "ExecuteTime": {
     "end_time": "2023-01-14T19:36:17.642978Z",
     "start_time": "2023-01-14T19:36:17.625765Z"
    }
   },
   "outputs": [
    {
     "data": {
      "text/plain": [
       "1.8280511719596342"
      ]
     },
     "execution_count": 3,
     "metadata": {},
     "output_type": "execute_result"
    }
   ],
   "source": [
    "stats.t.ppf(0.96,24)"
   ]
  },
  {
   "cell_type": "markdown",
   "id": "fb322aa0",
   "metadata": {},
   "source": [
    "**t scores of 99% confidence interval for sample size of 25**"
   ]
  },
  {
   "cell_type": "code",
   "execution_count": 4,
   "id": "5cc57b6c",
   "metadata": {
    "ExecuteTime": {
     "end_time": "2023-01-14T19:36:24.376870Z",
     "start_time": "2023-01-14T19:36:24.352399Z"
    }
   },
   "outputs": [
    {
     "data": {
      "text/plain": [
       "2.4921594731575762"
      ]
     },
     "execution_count": 4,
     "metadata": {},
     "output_type": "execute_result"
    }
   ],
   "source": [
    "stats.t.ppf(0.99,24)"
   ]
  }
 ],
 "metadata": {
  "kernelspec": {
   "display_name": "Python 3 (ipykernel)",
   "language": "python",
   "name": "python3"
  },
  "language_info": {
   "codemirror_mode": {
    "name": "ipython",
    "version": 3
   },
   "file_extension": ".py",
   "mimetype": "text/x-python",
   "name": "python",
   "nbconvert_exporter": "python",
   "pygments_lexer": "ipython3",
   "version": "3.9.13"
  }
 },
 "nbformat": 4,
 "nbformat_minor": 5
}
