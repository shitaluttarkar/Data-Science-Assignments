{
 "cells": [
  {
   "cell_type": "code",
   "execution_count": 1,
   "id": "696e6b21",
   "metadata": {
    "ExecuteTime": {
     "end_time": "2023-01-14T17:52:39.711793Z",
     "start_time": "2023-01-14T17:52:35.276882Z"
    }
   },
   "outputs": [],
   "source": [
    "import pandas as pd\n",
    "from scipy import stats\n",
    "import matplotlib.pyplot as plt\n",
    "%matplotlib inline\n",
    "import seaborn as sns"
   ]
  },
  {
   "cell_type": "code",
   "execution_count": 2,
   "id": "3ee35a52",
   "metadata": {
    "ExecuteTime": {
     "end_time": "2023-01-14T17:53:53.835539Z",
     "start_time": "2023-01-14T17:53:52.933081Z"
    }
   },
   "outputs": [],
   "source": [
    "Q=(pd.read_csv(\"https://raw.githubusercontent.com/aks245/Assignment-Dataset/main/Assignment%201/Q9_a.csv\"))[['speed','dist']]"
   ]
  },
  {
   "cell_type": "markdown",
   "id": "e6ee4c41",
   "metadata": {},
   "source": [
    "# Importing Data"
   ]
  },
  {
   "cell_type": "code",
   "execution_count": 3,
   "id": "fc8c940a",
   "metadata": {
    "ExecuteTime": {
     "end_time": "2023-01-14T17:53:55.939904Z",
     "start_time": "2023-01-14T17:53:55.907658Z"
    }
   },
   "outputs": [
    {
     "data": {
      "text/html": [
       "<div>\n",
       "<style scoped>\n",
       "    .dataframe tbody tr th:only-of-type {\n",
       "        vertical-align: middle;\n",
       "    }\n",
       "\n",
       "    .dataframe tbody tr th {\n",
       "        vertical-align: top;\n",
       "    }\n",
       "\n",
       "    .dataframe thead th {\n",
       "        text-align: right;\n",
       "    }\n",
       "</style>\n",
       "<table border=\"1\" class=\"dataframe\">\n",
       "  <thead>\n",
       "    <tr style=\"text-align: right;\">\n",
       "      <th></th>\n",
       "      <th>speed</th>\n",
       "      <th>dist</th>\n",
       "    </tr>\n",
       "  </thead>\n",
       "  <tbody>\n",
       "    <tr>\n",
       "      <th>0</th>\n",
       "      <td>4</td>\n",
       "      <td>2</td>\n",
       "    </tr>\n",
       "    <tr>\n",
       "      <th>1</th>\n",
       "      <td>4</td>\n",
       "      <td>10</td>\n",
       "    </tr>\n",
       "    <tr>\n",
       "      <th>2</th>\n",
       "      <td>7</td>\n",
       "      <td>4</td>\n",
       "    </tr>\n",
       "    <tr>\n",
       "      <th>3</th>\n",
       "      <td>7</td>\n",
       "      <td>22</td>\n",
       "    </tr>\n",
       "    <tr>\n",
       "      <th>4</th>\n",
       "      <td>8</td>\n",
       "      <td>16</td>\n",
       "    </tr>\n",
       "  </tbody>\n",
       "</table>\n",
       "</div>"
      ],
      "text/plain": [
       "   speed  dist\n",
       "0      4     2\n",
       "1      4    10\n",
       "2      7     4\n",
       "3      7    22\n",
       "4      8    16"
      ]
     },
     "execution_count": 3,
     "metadata": {},
     "output_type": "execute_result"
    }
   ],
   "source": [
    "Q.head()"
   ]
  },
  {
   "cell_type": "markdown",
   "id": "96351e99",
   "metadata": {},
   "source": [
    "# Skewness"
   ]
  },
  {
   "cell_type": "code",
   "execution_count": 4,
   "id": "7054b66a",
   "metadata": {
    "ExecuteTime": {
     "end_time": "2023-01-14T17:54:05.660452Z",
     "start_time": "2023-01-14T17:54:05.636925Z"
    }
   },
   "outputs": [
    {
     "data": {
      "text/plain": [
       "speed   -0.117510\n",
       "dist     0.806895\n",
       "dtype: float64"
      ]
     },
     "execution_count": 4,
     "metadata": {},
     "output_type": "execute_result"
    }
   ],
   "source": [
    "Q.skew()"
   ]
  },
  {
   "cell_type": "markdown",
   "id": "55556c72",
   "metadata": {},
   "source": [
    "# Kurtosis"
   ]
  },
  {
   "cell_type": "code",
   "execution_count": 5,
   "id": "77a33552",
   "metadata": {
    "ExecuteTime": {
     "end_time": "2023-01-14T17:54:09.163481Z",
     "start_time": "2023-01-14T17:54:09.130665Z"
    }
   },
   "outputs": [
    {
     "data": {
      "text/plain": [
       "speed   -0.508994\n",
       "dist     0.405053\n",
       "dtype: float64"
      ]
     },
     "execution_count": 5,
     "metadata": {},
     "output_type": "execute_result"
    }
   ],
   "source": [
    "Q.kurtosis()"
   ]
  },
  {
   "cell_type": "markdown",
   "id": "844366df",
   "metadata": {},
   "source": [
    "# Median"
   ]
  },
  {
   "cell_type": "code",
   "execution_count": 7,
   "id": "80834dbc",
   "metadata": {
    "ExecuteTime": {
     "end_time": "2023-01-14T17:57:45.444381Z",
     "start_time": "2023-01-14T17:57:45.172503Z"
    }
   },
   "outputs": [
    {
     "data": {
      "text/plain": [
       "Text(0.5, 1.0, 'DIST')"
      ]
     },
     "execution_count": 7,
     "metadata": {},
     "output_type": "execute_result"
    },
    {
     "data": {
      "image/png": "[encoded data removed]",
      "text/plain": [
       "<Figure size 1500x500 with 2 Axes>"
      ]
     },
     "metadata": {},
     "output_type": "display_data"
    }
   ],
   "source": [
    "ax=plt.subplots(figsize=(15,5))\n",
    "plt.subplot(1,2,1)\n",
    "plt.boxplot(Q.speed)\n",
    "plt.title('SPEED')\n",
    "plt.subplot(1,2,2) \n",
    "plt.boxplot(Q.dist)\n",
    "plt.title('DIST')"
   ]
  },
  {
   "cell_type": "code",
   "execution_count": 10,
   "id": "d94f1bc1",
   "metadata": {
    "ExecuteTime": {
     "end_time": "2023-01-14T18:00:06.775403Z",
     "start_time": "2023-01-14T18:00:06.759729Z"
    }
   },
   "outputs": [
    {
     "data": {
      "text/plain": [
       "speed    15.0\n",
       "dist     36.0\n",
       "dtype: float64"
      ]
     },
     "execution_count": 10,
     "metadata": {},
     "output_type": "execute_result"
    }
   ],
   "source": [
    "Q.median()"
   ]
  }
 ],
 "metadata": {
  "kernelspec": {
   "display_name": "Python 3 (ipykernel)",
   "language": "python",
   "name": "python3"
  },
  "language_info": {
   "codemirror_mode": {
    "name": "ipython",
    "version": 3
   },
   "file_extension": ".py",
   "mimetype": "text/x-python",
   "name": "python",
   "nbconvert_exporter": "python",
   "pygments_lexer": "ipython3",
   "version": "3.9.13"
  }
 },
 "nbformat": 4,
 "nbformat_minor": 5
}
