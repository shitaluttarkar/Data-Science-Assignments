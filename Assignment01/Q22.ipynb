{
 "cells": [
  {
   "cell_type": "code",
   "execution_count": 1,
   "id": "b93915b2",
   "metadata": {
    "ExecuteTime": {
     "end_time": "2023-01-14T19:27:41.443357Z",
     "start_time": "2023-01-14T19:27:40.217110Z"
    }
   },
   "outputs": [],
   "source": [
    "from scipy import stats\n",
    "from scipy.stats import norm"
   ]
  },
  {
   "cell_type": "markdown",
   "id": "c233181d",
   "metadata": {},
   "source": [
    "Q. Calculate the Z scores of 90% confidence interval,94% confidence interval, 60% confidence interval "
   ]
  },
  {
   "cell_type": "markdown",
   "id": "98867ea6",
   "metadata": {},
   "source": [
    "**Z-score of 90% confidence interval**"
   ]
  },
  {
   "cell_type": "code",
   "execution_count": 2,
   "id": "d6c28493",
   "metadata": {
    "ExecuteTime": {
     "end_time": "2023-01-14T19:29:15.406597Z",
     "start_time": "2023-01-14T19:29:15.373976Z"
    }
   },
   "outputs": [
    {
     "data": {
      "text/plain": [
       "1.6448536269514722"
      ]
     },
     "execution_count": 2,
     "metadata": {},
     "output_type": "execute_result"
    }
   ],
   "source": [
    "stats.norm.ppf(0.95)"
   ]
  },
  {
   "cell_type": "markdown",
   "id": "640d319e",
   "metadata": {},
   "source": [
    "**Z-score of 94% confidence interval**"
   ]
  },
  {
   "cell_type": "code",
   "execution_count": 3,
   "id": "0a9725ca",
   "metadata": {
    "ExecuteTime": {
     "end_time": "2023-01-14T19:29:25.579521Z",
     "start_time": "2023-01-14T19:29:25.564228Z"
    }
   },
   "outputs": [
    {
     "data": {
      "text/plain": [
       "1.8807936081512509"
      ]
     },
     "execution_count": 3,
     "metadata": {},
     "output_type": "execute_result"
    }
   ],
   "source": [
    "stats.norm.ppf(0.97)"
   ]
  },
  {
   "cell_type": "markdown",
   "id": "1620bf1f",
   "metadata": {},
   "source": [
    "**Z-score of 60% confidence interval**"
   ]
  },
  {
   "cell_type": "code",
   "execution_count": 4,
   "id": "db47192f",
   "metadata": {
    "ExecuteTime": {
     "end_time": "2023-01-14T19:29:35.550209Z",
     "start_time": "2023-01-14T19:29:35.532808Z"
    }
   },
   "outputs": [
    {
     "data": {
      "text/plain": [
       "0.8416212335729143"
      ]
     },
     "execution_count": 4,
     "metadata": {},
     "output_type": "execute_result"
    }
   ],
   "source": [
    "stats.norm.ppf(0.8)"
   ]
  }
 ],
 "metadata": {
  "kernelspec": {
   "display_name": "Python 3 (ipykernel)",
   "language": "python",
   "name": "python3"
  },
  "language_info": {
   "codemirror_mode": {
    "name": "ipython",
    "version": 3
   },
   "file_extension": ".py",
   "mimetype": "text/x-python",
   "name": "python",
   "nbconvert_exporter": "python",
   "pygments_lexer": "ipython3",
   "version": "3.9.13"
  }
 },
 "nbformat": 4,
 "nbformat_minor": 5
}
