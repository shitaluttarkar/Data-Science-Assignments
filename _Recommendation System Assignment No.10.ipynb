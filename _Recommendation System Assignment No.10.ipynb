{
 "cells": [
  {
   "cell_type": "markdown",
   "id": "e839aac4",
   "metadata": {},
   "source": [
    "# Problem statement.\n",
    "\n",
    "Build a recommender system by using cosine simillarties score."
   ]
  },
  {
   "cell_type": "code",
   "execution_count": 1,
   "id": "85cf9d6a",
   "metadata": {
    "ExecuteTime": {
     "end_time": "2023-02-17T15:06:53.752455Z",
     "start_time": "2023-02-17T15:06:51.772188Z"
    }
   },
   "outputs": [],
   "source": [
    "import pandas as pd\n",
    "import numpy as np\n",
    "import matplotlib.pyplot as plt\n"
   ]
  },
  {
   "cell_type": "code",
   "execution_count": 13,
   "id": "2a426cb8",
   "metadata": {
    "ExecuteTime": {
     "end_time": "2023-02-17T15:07:46.209298Z",
     "start_time": "2023-02-17T15:07:46.163206Z"
    }
   },
   "outputs": [
    {
     "data": {
      "text/html": [
       "<div>\n",
       "<style scoped>\n",
       "    .dataframe tbody tr th:only-of-type {\n",
       "        vertical-align: middle;\n",
       "    }\n",
       "\n",
       "    .dataframe tbody tr th {\n",
       "        vertical-align: top;\n",
       "    }\n",
       "\n",
       "    .dataframe thead th {\n",
       "        text-align: right;\n",
       "    }\n",
       "</style>\n",
       "<table border=\"1\" class=\"dataframe\">\n",
       "  <thead>\n",
       "    <tr style=\"text-align: right;\">\n",
       "      <th></th>\n",
       "      <th>Unnamed: 0</th>\n",
       "      <th>User.ID</th>\n",
       "      <th>Book.Title</th>\n",
       "      <th>Book.Rating</th>\n",
       "    </tr>\n",
       "  </thead>\n",
       "  <tbody>\n",
       "    <tr>\n",
       "      <th>0</th>\n",
       "      <td>1</td>\n",
       "      <td>276726</td>\n",
       "      <td>Classical Mythology</td>\n",
       "      <td>5</td>\n",
       "    </tr>\n",
       "    <tr>\n",
       "      <th>1</th>\n",
       "      <td>2</td>\n",
       "      <td>276729</td>\n",
       "      <td>Clara Callan</td>\n",
       "      <td>3</td>\n",
       "    </tr>\n",
       "    <tr>\n",
       "      <th>2</th>\n",
       "      <td>3</td>\n",
       "      <td>276729</td>\n",
       "      <td>Decision in Normandy</td>\n",
       "      <td>6</td>\n",
       "    </tr>\n",
       "    <tr>\n",
       "      <th>3</th>\n",
       "      <td>4</td>\n",
       "      <td>276736</td>\n",
       "      <td>Flu: The Story of the Great Influenza Pandemic...</td>\n",
       "      <td>8</td>\n",
       "    </tr>\n",
       "    <tr>\n",
       "      <th>4</th>\n",
       "      <td>5</td>\n",
       "      <td>276737</td>\n",
       "      <td>The Mummies of Urumchi</td>\n",
       "      <td>6</td>\n",
       "    </tr>\n",
       "    <tr>\n",
       "      <th>...</th>\n",
       "      <td>...</td>\n",
       "      <td>...</td>\n",
       "      <td>...</td>\n",
       "      <td>...</td>\n",
       "    </tr>\n",
       "    <tr>\n",
       "      <th>9995</th>\n",
       "      <td>9996</td>\n",
       "      <td>162121</td>\n",
       "      <td>American Fried: Adventures of a Happy Eater.</td>\n",
       "      <td>7</td>\n",
       "    </tr>\n",
       "    <tr>\n",
       "      <th>9996</th>\n",
       "      <td>9997</td>\n",
       "      <td>162121</td>\n",
       "      <td>Cannibal In Manhattan</td>\n",
       "      <td>9</td>\n",
       "    </tr>\n",
       "    <tr>\n",
       "      <th>9997</th>\n",
       "      <td>9998</td>\n",
       "      <td>162121</td>\n",
       "      <td>How to Flirt: A Practical Guide</td>\n",
       "      <td>7</td>\n",
       "    </tr>\n",
       "    <tr>\n",
       "      <th>9998</th>\n",
       "      <td>9999</td>\n",
       "      <td>162121</td>\n",
       "      <td>Twilight</td>\n",
       "      <td>8</td>\n",
       "    </tr>\n",
       "    <tr>\n",
       "      <th>9999</th>\n",
       "      <td>10000</td>\n",
       "      <td>162129</td>\n",
       "      <td>Kids Say the Darndest Things</td>\n",
       "      <td>6</td>\n",
       "    </tr>\n",
       "  </tbody>\n",
       "</table>\n",
       "<p>10000 rows × 4 columns</p>\n",
       "</div>"
      ],
      "text/plain": [
       "      Unnamed: 0  User.ID                                         Book.Title  \\\n",
       "0              1   276726                                Classical Mythology   \n",
       "1              2   276729                                       Clara Callan   \n",
       "2              3   276729                               Decision in Normandy   \n",
       "3              4   276736  Flu: The Story of the Great Influenza Pandemic...   \n",
       "4              5   276737                             The Mummies of Urumchi   \n",
       "...          ...      ...                                                ...   \n",
       "9995        9996   162121       American Fried: Adventures of a Happy Eater.   \n",
       "9996        9997   162121                              Cannibal In Manhattan   \n",
       "9997        9998   162121                    How to Flirt: A Practical Guide   \n",
       "9998        9999   162121                                           Twilight   \n",
       "9999       10000   162129                       Kids Say the Darndest Things   \n",
       "\n",
       "      Book.Rating  \n",
       "0               5  \n",
       "1               3  \n",
       "2               6  \n",
       "3               8  \n",
       "4               6  \n",
       "...           ...  \n",
       "9995            7  \n",
       "9996            9  \n",
       "9997            7  \n",
       "9998            8  \n",
       "9999            6  \n",
       "\n",
       "[10000 rows x 4 columns]"
      ]
     },
     "execution_count": 13,
     "metadata": {},
     "output_type": "execute_result"
    }
   ],
   "source": [
    "book = pd.read_csv('book (1).csv',encoding='latin-1')\n",
    "book"
   ]
  },
  {
   "cell_type": "code",
   "execution_count": 14,
   "id": "71623044",
   "metadata": {
    "ExecuteTime": {
     "end_time": "2023-02-17T15:07:51.167241Z",
     "start_time": "2023-02-17T15:07:51.149417Z"
    }
   },
   "outputs": [
    {
     "data": {
      "text/plain": [
       "<bound method DataFrame.rename of       Unnamed: 0  User.ID                                         Book.Title  \\\n",
       "0              1   276726                                Classical Mythology   \n",
       "1              2   276729                                       Clara Callan   \n",
       "2              3   276729                               Decision in Normandy   \n",
       "3              4   276736  Flu: The Story of the Great Influenza Pandemic...   \n",
       "4              5   276737                             The Mummies of Urumchi   \n",
       "...          ...      ...                                                ...   \n",
       "9995        9996   162121       American Fried: Adventures of a Happy Eater.   \n",
       "9996        9997   162121                              Cannibal In Manhattan   \n",
       "9997        9998   162121                    How to Flirt: A Practical Guide   \n",
       "9998        9999   162121                                           Twilight   \n",
       "9999       10000   162129                       Kids Say the Darndest Things   \n",
       "\n",
       "      Book.Rating  \n",
       "0               5  \n",
       "1               3  \n",
       "2               6  \n",
       "3               8  \n",
       "4               6  \n",
       "...           ...  \n",
       "9995            7  \n",
       "9996            9  \n",
       "9997            7  \n",
       "9998            8  \n",
       "9999            6  \n",
       "\n",
       "[10000 rows x 4 columns]>"
      ]
     },
     "execution_count": 14,
     "metadata": {},
     "output_type": "execute_result"
    }
   ],
   "source": [
    "book.rename"
   ]
  },
  {
   "cell_type": "code",
   "execution_count": 15,
   "id": "70f5821b",
   "metadata": {
    "ExecuteTime": {
     "end_time": "2023-02-17T15:07:58.144202Z",
     "start_time": "2023-02-17T15:07:58.127646Z"
    }
   },
   "outputs": [
    {
     "data": {
      "text/plain": [
       "(10000, 4)"
      ]
     },
     "execution_count": 15,
     "metadata": {},
     "output_type": "execute_result"
    }
   ],
   "source": [
    "book.shape"
   ]
  },
  {
   "cell_type": "code",
   "execution_count": 16,
   "id": "bc716395",
   "metadata": {
    "ExecuteTime": {
     "end_time": "2023-02-17T15:08:01.010218Z",
     "start_time": "2023-02-17T15:08:00.988896Z"
    }
   },
   "outputs": [
    {
     "data": {
      "text/plain": [
       "<bound method DataFrame.info of       Unnamed: 0  User.ID                                         Book.Title  \\\n",
       "0              1   276726                                Classical Mythology   \n",
       "1              2   276729                                       Clara Callan   \n",
       "2              3   276729                               Decision in Normandy   \n",
       "3              4   276736  Flu: The Story of the Great Influenza Pandemic...   \n",
       "4              5   276737                             The Mummies of Urumchi   \n",
       "...          ...      ...                                                ...   \n",
       "9995        9996   162121       American Fried: Adventures of a Happy Eater.   \n",
       "9996        9997   162121                              Cannibal In Manhattan   \n",
       "9997        9998   162121                    How to Flirt: A Practical Guide   \n",
       "9998        9999   162121                                           Twilight   \n",
       "9999       10000   162129                       Kids Say the Darndest Things   \n",
       "\n",
       "      Book.Rating  \n",
       "0               5  \n",
       "1               3  \n",
       "2               6  \n",
       "3               8  \n",
       "4               6  \n",
       "...           ...  \n",
       "9995            7  \n",
       "9996            9  \n",
       "9997            7  \n",
       "9998            8  \n",
       "9999            6  \n",
       "\n",
       "[10000 rows x 4 columns]>"
      ]
     },
     "execution_count": 16,
     "metadata": {},
     "output_type": "execute_result"
    }
   ],
   "source": [
    "book.info"
   ]
  },
  {
   "cell_type": "code",
   "execution_count": 17,
   "id": "16fe4ec7",
   "metadata": {
    "ExecuteTime": {
     "end_time": "2023-02-17T15:08:08.148170Z",
     "start_time": "2023-02-17T15:08:08.140165Z"
    }
   },
   "outputs": [
    {
     "name": "stdout",
     "output_type": "stream",
     "text": [
      "Number of Unique Users are 2182\n"
     ]
    }
   ],
   "source": [
    "print('Number of Unique Users are {}'.format(len(book['User.ID'].unique())))"
   ]
  },
  {
   "cell_type": "code",
   "execution_count": 18,
   "id": "acff1514",
   "metadata": {
    "ExecuteTime": {
     "end_time": "2023-02-17T15:08:11.045080Z",
     "start_time": "2023-02-17T15:08:11.027729Z"
    }
   },
   "outputs": [
    {
     "name": "stdout",
     "output_type": "stream",
     "text": [
      "Number of Unique Books are 9659\n"
     ]
    }
   ],
   "source": [
    "print('Number of Unique Books are {}'.format(len(book['Book.Title'].unique())))"
   ]
  },
  {
   "cell_type": "code",
   "execution_count": 19,
   "id": "32bf1816",
   "metadata": {
    "ExecuteTime": {
     "end_time": "2023-02-17T15:08:13.104877Z",
     "start_time": "2023-02-17T15:08:13.087763Z"
    }
   },
   "outputs": [
    {
     "data": {
      "text/plain": [
       "8     2283\n",
       "7     2076\n",
       "10    1732\n",
       "9     1493\n",
       "5     1007\n",
       "6      920\n",
       "4      237\n",
       "3      146\n",
       "2       63\n",
       "1       43\n",
       "Name: Book.Rating, dtype: int64"
      ]
     },
     "execution_count": 19,
     "metadata": {},
     "output_type": "execute_result"
    }
   ],
   "source": [
    "book['Book.Rating'].value_counts()"
   ]
  },
  {
   "cell_type": "code",
   "execution_count": 20,
   "id": "5cd6736d",
   "metadata": {
    "ExecuteTime": {
     "end_time": "2023-02-17T15:08:15.817752Z",
     "start_time": "2023-02-17T15:08:15.790401Z"
    }
   },
   "outputs": [
    {
     "data": {
      "text/html": [
       "<div>\n",
       "<style scoped>\n",
       "    .dataframe tbody tr th:only-of-type {\n",
       "        vertical-align: middle;\n",
       "    }\n",
       "\n",
       "    .dataframe tbody tr th {\n",
       "        vertical-align: top;\n",
       "    }\n",
       "\n",
       "    .dataframe thead th {\n",
       "        text-align: right;\n",
       "    }\n",
       "</style>\n",
       "<table border=\"1\" class=\"dataframe\">\n",
       "  <thead>\n",
       "    <tr style=\"text-align: right;\">\n",
       "      <th></th>\n",
       "      <th>Unnamed: 0</th>\n",
       "      <th>User.ID</th>\n",
       "      <th>Book.Rating</th>\n",
       "    </tr>\n",
       "  </thead>\n",
       "  <tbody>\n",
       "    <tr>\n",
       "      <th>count</th>\n",
       "      <td>10000.00000</td>\n",
       "      <td>10000.000000</td>\n",
       "      <td>10000.00000</td>\n",
       "    </tr>\n",
       "    <tr>\n",
       "      <th>mean</th>\n",
       "      <td>5000.50000</td>\n",
       "      <td>95321.249800</td>\n",
       "      <td>7.56630</td>\n",
       "    </tr>\n",
       "    <tr>\n",
       "      <th>std</th>\n",
       "      <td>2886.89568</td>\n",
       "      <td>117645.703609</td>\n",
       "      <td>1.82152</td>\n",
       "    </tr>\n",
       "    <tr>\n",
       "      <th>min</th>\n",
       "      <td>1.00000</td>\n",
       "      <td>8.000000</td>\n",
       "      <td>1.00000</td>\n",
       "    </tr>\n",
       "    <tr>\n",
       "      <th>25%</th>\n",
       "      <td>2500.75000</td>\n",
       "      <td>2103.000000</td>\n",
       "      <td>7.00000</td>\n",
       "    </tr>\n",
       "    <tr>\n",
       "      <th>50%</th>\n",
       "      <td>5000.50000</td>\n",
       "      <td>3757.000000</td>\n",
       "      <td>8.00000</td>\n",
       "    </tr>\n",
       "    <tr>\n",
       "      <th>75%</th>\n",
       "      <td>7500.25000</td>\n",
       "      <td>162052.000000</td>\n",
       "      <td>9.00000</td>\n",
       "    </tr>\n",
       "    <tr>\n",
       "      <th>max</th>\n",
       "      <td>10000.00000</td>\n",
       "      <td>278854.000000</td>\n",
       "      <td>10.00000</td>\n",
       "    </tr>\n",
       "  </tbody>\n",
       "</table>\n",
       "</div>"
      ],
      "text/plain": [
       "        Unnamed: 0        User.ID  Book.Rating\n",
       "count  10000.00000   10000.000000  10000.00000\n",
       "mean    5000.50000   95321.249800      7.56630\n",
       "std     2886.89568  117645.703609      1.82152\n",
       "min        1.00000       8.000000      1.00000\n",
       "25%     2500.75000    2103.000000      7.00000\n",
       "50%     5000.50000    3757.000000      8.00000\n",
       "75%     7500.25000  162052.000000      9.00000\n",
       "max    10000.00000  278854.000000     10.00000"
      ]
     },
     "execution_count": 20,
     "metadata": {},
     "output_type": "execute_result"
    }
   ],
   "source": [
    "book.describe()"
   ]
  },
  {
   "cell_type": "code",
   "execution_count": 21,
   "id": "a7faaa26",
   "metadata": {
    "ExecuteTime": {
     "end_time": "2023-02-17T15:08:27.015965Z",
     "start_time": "2023-02-17T15:08:26.991383Z"
    }
   },
   "outputs": [
    {
     "data": {
      "text/plain": [
       "Unnamed: 0     0\n",
       "User.ID        0\n",
       "Book.Title     0\n",
       "Book.Rating    0\n",
       "dtype: int64"
      ]
     },
     "execution_count": 21,
     "metadata": {},
     "output_type": "execute_result"
    }
   ],
   "source": [
    "book.isnull().sum()"
   ]
  },
  {
   "cell_type": "code",
   "execution_count": 22,
   "id": "7fba0a2a",
   "metadata": {
    "ExecuteTime": {
     "end_time": "2023-02-17T15:08:35.938627Z",
     "start_time": "2023-02-17T15:08:35.914575Z"
    }
   },
   "outputs": [],
   "source": [
    "book.rename(columns = {'Book.Title':'title'}, inplace = True)\n",
    "book.rename(columns = {'Book.Rating':'rating'}, inplace = True)\n",
    "book.rename(columns = {'User.ID':'ID'}, inplace = True)"
   ]
  },
  {
   "cell_type": "code",
   "execution_count": 23,
   "id": "c8a8bbf5",
   "metadata": {
    "ExecuteTime": {
     "end_time": "2023-02-17T15:08:43.786535Z",
     "start_time": "2023-02-17T15:08:43.737770Z"
    }
   },
   "outputs": [
    {
     "data": {
      "text/plain": [
       "title\n",
       "Dr Mommy (From Here To Maternity) (Silhouette Desire, 1269)                                                           10.0\n",
       "The Piano Man's Daughter                                                                                              10.0\n",
       "Private Screening                                                                                                     10.0\n",
       "The Pilates Body: The Ultimate At-Home Guide to Strengthening, Lengthening, and Toning Your Body--Without Machines    10.0\n",
       "Desert Solitaire                                                                                                      10.0\n",
       "Name: rating, dtype: float64"
      ]
     },
     "execution_count": 23,
     "metadata": {},
     "output_type": "execute_result"
    }
   ],
   "source": [
    "book.groupby('title')['rating'].mean().sort_values(ascending=False).head()"
   ]
  },
  {
   "cell_type": "code",
   "execution_count": 24,
   "id": "8aa4bce8",
   "metadata": {
    "ExecuteTime": {
     "end_time": "2023-02-17T15:27:02.859007Z",
     "start_time": "2023-02-17T15:27:02.817265Z"
    }
   },
   "outputs": [
    {
     "data": {
      "text/html": [
       "<div>\n",
       "<style scoped>\n",
       "    .dataframe tbody tr th:only-of-type {\n",
       "        vertical-align: middle;\n",
       "    }\n",
       "\n",
       "    .dataframe tbody tr th {\n",
       "        vertical-align: top;\n",
       "    }\n",
       "\n",
       "    .dataframe thead th {\n",
       "        text-align: right;\n",
       "    }\n",
       "</style>\n",
       "<table border=\"1\" class=\"dataframe\">\n",
       "  <thead>\n",
       "    <tr style=\"text-align: right;\">\n",
       "      <th></th>\n",
       "      <th>rating</th>\n",
       "    </tr>\n",
       "    <tr>\n",
       "      <th>title</th>\n",
       "      <th></th>\n",
       "    </tr>\n",
       "  </thead>\n",
       "  <tbody>\n",
       "    <tr>\n",
       "      <th>Jason, Madison &amp;amp</th>\n",
       "      <td>8.0</td>\n",
       "    </tr>\n",
       "    <tr>\n",
       "      <th>Other Stories;Merril;1985;McClelland &amp;amp</th>\n",
       "      <td>6.0</td>\n",
       "    </tr>\n",
       "    <tr>\n",
       "      <th>Repairing PC Drives &amp;amp</th>\n",
       "      <td>4.0</td>\n",
       "    </tr>\n",
       "    <tr>\n",
       "      <th>'48</th>\n",
       "      <td>7.0</td>\n",
       "    </tr>\n",
       "    <tr>\n",
       "      <th>'O Au No Keia: Voices from Hawai'I's Mahu and Transgender Communities</th>\n",
       "      <td>8.0</td>\n",
       "    </tr>\n",
       "  </tbody>\n",
       "</table>\n",
       "</div>"
      ],
      "text/plain": [
       "                                                    rating\n",
       "title                                                     \n",
       " Jason, Madison &amp                                   8.0\n",
       " Other Stories;Merril;1985;McClelland &amp             6.0\n",
       " Repairing PC Drives &amp                              4.0\n",
       "'48                                                    7.0\n",
       "'O Au No Keia: Voices from Hawai'I's Mahu and T...     8.0"
      ]
     },
     "execution_count": 24,
     "metadata": {},
     "output_type": "execute_result"
    }
   ],
   "source": [
    "ratings = pd.DataFrame(book.groupby('title')['rating'].mean())\n",
    "ratings.head()"
   ]
  },
  {
   "cell_type": "code",
   "execution_count": 25,
   "id": "ad927b87",
   "metadata": {
    "ExecuteTime": {
     "end_time": "2023-02-17T15:27:30.677606Z",
     "start_time": "2023-02-17T15:27:30.639556Z"
    }
   },
   "outputs": [
    {
     "data": {
      "text/html": [
       "<div>\n",
       "<style scoped>\n",
       "    .dataframe tbody tr th:only-of-type {\n",
       "        vertical-align: middle;\n",
       "    }\n",
       "\n",
       "    .dataframe tbody tr th {\n",
       "        vertical-align: top;\n",
       "    }\n",
       "\n",
       "    .dataframe thead th {\n",
       "        text-align: right;\n",
       "    }\n",
       "</style>\n",
       "<table border=\"1\" class=\"dataframe\">\n",
       "  <thead>\n",
       "    <tr style=\"text-align: right;\">\n",
       "      <th></th>\n",
       "      <th>rating</th>\n",
       "      <th>num of ratings</th>\n",
       "    </tr>\n",
       "    <tr>\n",
       "      <th>title</th>\n",
       "      <th></th>\n",
       "      <th></th>\n",
       "    </tr>\n",
       "  </thead>\n",
       "  <tbody>\n",
       "    <tr>\n",
       "      <th>Jason, Madison &amp;amp</th>\n",
       "      <td>8.0</td>\n",
       "      <td>1</td>\n",
       "    </tr>\n",
       "    <tr>\n",
       "      <th>Other Stories;Merril;1985;McClelland &amp;amp</th>\n",
       "      <td>6.0</td>\n",
       "      <td>1</td>\n",
       "    </tr>\n",
       "    <tr>\n",
       "      <th>Repairing PC Drives &amp;amp</th>\n",
       "      <td>4.0</td>\n",
       "      <td>1</td>\n",
       "    </tr>\n",
       "    <tr>\n",
       "      <th>'48</th>\n",
       "      <td>7.0</td>\n",
       "      <td>1</td>\n",
       "    </tr>\n",
       "    <tr>\n",
       "      <th>'O Au No Keia: Voices from Hawai'I's Mahu and Transgender Communities</th>\n",
       "      <td>8.0</td>\n",
       "      <td>1</td>\n",
       "    </tr>\n",
       "  </tbody>\n",
       "</table>\n",
       "</div>"
      ],
      "text/plain": [
       "                                                    rating  num of ratings\n",
       "title                                                                     \n",
       " Jason, Madison &amp                                   8.0               1\n",
       " Other Stories;Merril;1985;McClelland &amp             6.0               1\n",
       " Repairing PC Drives &amp                              4.0               1\n",
       "'48                                                    7.0               1\n",
       "'O Au No Keia: Voices from Hawai'I's Mahu and T...     8.0               1"
      ]
     },
     "execution_count": 25,
     "metadata": {},
     "output_type": "execute_result"
    }
   ],
   "source": [
    "ratings['num of ratings'] = pd.DataFrame(book.groupby('title')['rating'].count())\n",
    "ratings.head()"
   ]
  },
  {
   "cell_type": "code",
   "execution_count": 26,
   "id": "b267a7e1",
   "metadata": {
    "ExecuteTime": {
     "end_time": "2023-02-17T15:27:50.873423Z",
     "start_time": "2023-02-17T15:27:50.397433Z"
    }
   },
   "outputs": [
    {
     "data": {
      "text/plain": [
       "<AxesSubplot:>"
      ]
     },
     "execution_count": 26,
     "metadata": {},
     "output_type": "execute_result"
    },
    {
     "data": {
      "image/png": "[encoded data removed]",
      "text/plain": [
       "<Figure size 1000x400 with 1 Axes>"
      ]
     },
     "metadata": {},
     "output_type": "display_data"
    }
   ],
   "source": [
    "#Data Visualization\n",
    "plt.figure(figsize=(10,4))\n",
    "ratings['num of ratings'].hist(bins=70)"
   ]
  },
  {
   "cell_type": "code",
   "execution_count": 27,
   "id": "66a12228",
   "metadata": {
    "ExecuteTime": {
     "end_time": "2023-02-17T15:28:36.444657Z",
     "start_time": "2023-02-17T15:28:36.260500Z"
    }
   },
   "outputs": [
    {
     "data": {
      "text/plain": [
       "Text(0.5, 1.0, 'Ratings Frequency')"
      ]
     },
     "execution_count": 27,
     "metadata": {},
     "output_type": "execute_result"
    },
    {
     "data": {
      "image/png": "[encoded data removed]",
      "text/plain": [
       "<Figure size 1000x600 with 1 Axes>"
      ]
     },
     "metadata": {},
     "output_type": "display_data"
    }
   ],
   "source": [
    "plt.figure(figsize=(10,6))\n",
    "book['rating'].value_counts().plot(kind='bar')\n",
    "plt.title('Ratings Frequency',  fontsize = 18, fontweight = 'bold')"
   ]
  },
  {
   "cell_type": "code",
   "execution_count": 28,
   "id": "b6a9b352",
   "metadata": {
    "ExecuteTime": {
     "end_time": "2023-02-17T15:29:04.323525Z",
     "start_time": "2023-02-17T15:29:04.296621Z"
    }
   },
   "outputs": [
    {
     "data": {
      "text/plain": [
       "Index(['Fahrenheit 451', 'Charlie and the Chocolate Factory',\n",
       "       'The Subtle Knife (His Dark Materials, Book 2)', 'Vanished',\n",
       "       'Ender's Game (Ender Wiggins Saga (Paperback))', 'Stardust',\n",
       "       'The Amber Spyglass (His Dark Materials, Book 3)', 'Life Is Elsewhere',\n",
       "       'The Golden Compass (His Dark Materials, Book 1)',\n",
       "       'The Hitchhiker's Guide to the Galaxy'],\n",
       "      dtype='object')"
      ]
     },
     "execution_count": 28,
     "metadata": {},
     "output_type": "execute_result"
    }
   ],
   "source": [
    "top_books = book['title'].value_counts().head(10)\n",
    "top_books.index"
   ]
  },
  {
   "cell_type": "code",
   "execution_count": 29,
   "id": "5f99a8b0",
   "metadata": {
    "ExecuteTime": {
     "end_time": "2023-02-17T15:29:35.186846Z",
     "start_time": "2023-02-17T15:29:34.829670Z"
    }
   },
   "outputs": [
    {
     "data": {
      "image/png": "[encoded data removed]",
      "text/plain": [
       "<Figure size 1600x900 with 1 Axes>"
      ]
     },
     "metadata": {},
     "output_type": "display_data"
    }
   ],
   "source": [
    "plt.figure(figsize = (16,9))\n",
    "plt.pie(top_books,\n",
    "       labels=top_books.index,\n",
    "       explode = [0.1,0.0,0.0,0.0,0.0,0.0,0.0,0.0,0.0,0.0],\n",
    "       autopct= '%.2f%%',\n",
    "       shadow= True,\n",
    "       startangle= 190,\n",
    "       textprops = {'size':'large',\n",
    "                   'fontweight':'bold',\n",
    "                    'rotation':'0',\n",
    "                   'color':'black'})\n",
    "#plt.legend(loc= 'best')\n",
    "plt.title(\"Top 10 Most Frequent Books Bought\", fontsize = 18, fontweight = 'bold')\n",
    "plt.show()"
   ]
  },
  {
   "cell_type": "code",
   "execution_count": 30,
   "id": "2c0f8cec",
   "metadata": {
    "ExecuteTime": {
     "end_time": "2023-02-17T15:30:59.237682Z",
     "start_time": "2023-02-17T15:30:59.208695Z"
    }
   },
   "outputs": [
    {
     "data": {
      "text/html": [
       "<div>\n",
       "<style scoped>\n",
       "    .dataframe tbody tr th:only-of-type {\n",
       "        vertical-align: middle;\n",
       "    }\n",
       "\n",
       "    .dataframe tbody tr th {\n",
       "        vertical-align: top;\n",
       "    }\n",
       "\n",
       "    .dataframe thead th {\n",
       "        text-align: right;\n",
       "    }\n",
       "</style>\n",
       "<table border=\"1\" class=\"dataframe\">\n",
       "  <thead>\n",
       "    <tr style=\"text-align: right;\">\n",
       "      <th></th>\n",
       "      <th>ID</th>\n",
       "      <th>title</th>\n",
       "      <th>rating</th>\n",
       "    </tr>\n",
       "    <tr>\n",
       "      <th>index</th>\n",
       "      <th></th>\n",
       "      <th></th>\n",
       "      <th></th>\n",
       "    </tr>\n",
       "  </thead>\n",
       "  <tbody>\n",
       "    <tr>\n",
       "      <th>1</th>\n",
       "      <td>276726</td>\n",
       "      <td>Classical Mythology</td>\n",
       "      <td>5</td>\n",
       "    </tr>\n",
       "    <tr>\n",
       "      <th>2</th>\n",
       "      <td>276729</td>\n",
       "      <td>Clara Callan</td>\n",
       "      <td>3</td>\n",
       "    </tr>\n",
       "    <tr>\n",
       "      <th>3</th>\n",
       "      <td>276729</td>\n",
       "      <td>Decision in Normandy</td>\n",
       "      <td>6</td>\n",
       "    </tr>\n",
       "    <tr>\n",
       "      <th>4</th>\n",
       "      <td>276736</td>\n",
       "      <td>Flu: The Story of the Great Influenza Pandemic...</td>\n",
       "      <td>8</td>\n",
       "    </tr>\n",
       "    <tr>\n",
       "      <th>5</th>\n",
       "      <td>276737</td>\n",
       "      <td>The Mummies of Urumchi</td>\n",
       "      <td>6</td>\n",
       "    </tr>\n",
       "    <tr>\n",
       "      <th>...</th>\n",
       "      <td>...</td>\n",
       "      <td>...</td>\n",
       "      <td>...</td>\n",
       "    </tr>\n",
       "    <tr>\n",
       "      <th>9996</th>\n",
       "      <td>162121</td>\n",
       "      <td>American Fried: Adventures of a Happy Eater.</td>\n",
       "      <td>7</td>\n",
       "    </tr>\n",
       "    <tr>\n",
       "      <th>9997</th>\n",
       "      <td>162121</td>\n",
       "      <td>Cannibal In Manhattan</td>\n",
       "      <td>9</td>\n",
       "    </tr>\n",
       "    <tr>\n",
       "      <th>9998</th>\n",
       "      <td>162121</td>\n",
       "      <td>How to Flirt: A Practical Guide</td>\n",
       "      <td>7</td>\n",
       "    </tr>\n",
       "    <tr>\n",
       "      <th>9999</th>\n",
       "      <td>162121</td>\n",
       "      <td>Twilight</td>\n",
       "      <td>8</td>\n",
       "    </tr>\n",
       "    <tr>\n",
       "      <th>10000</th>\n",
       "      <td>162129</td>\n",
       "      <td>Kids Say the Darndest Things</td>\n",
       "      <td>6</td>\n",
       "    </tr>\n",
       "  </tbody>\n",
       "</table>\n",
       "<p>10000 rows × 3 columns</p>\n",
       "</div>"
      ],
      "text/plain": [
       "           ID                                              title  rating\n",
       "index                                                                   \n",
       "1      276726                                Classical Mythology       5\n",
       "2      276729                                       Clara Callan       3\n",
       "3      276729                               Decision in Normandy       6\n",
       "4      276736  Flu: The Story of the Great Influenza Pandemic...       8\n",
       "5      276737                             The Mummies of Urumchi       6\n",
       "...       ...                                                ...     ...\n",
       "9996   162121       American Fried: Adventures of a Happy Eater.       7\n",
       "9997   162121                              Cannibal In Manhattan       9\n",
       "9998   162121                    How to Flirt: A Practical Guide       7\n",
       "9999   162121                                           Twilight       8\n",
       "10000  162129                       Kids Say the Darndest Things       6\n",
       "\n",
       "[10000 rows x 3 columns]"
      ]
     },
     "execution_count": 30,
     "metadata": {},
     "output_type": "execute_result"
    }
   ],
   "source": [
    "# Renaming the columns name\n",
    "book.rename({'Unnamed: 0':'index','User.ID':'user_id','Book.Title':'title','Book.Rating':'rating'}, axis= 1, inplace =True)\n",
    "book.set_index('index', inplace=True)\n",
    "book"
   ]
  },
  {
   "cell_type": "code",
   "execution_count": 32,
   "id": "24a61dfe",
   "metadata": {
    "ExecuteTime": {
     "end_time": "2023-02-17T15:31:38.271960Z",
     "start_time": "2023-02-17T15:31:38.261760Z"
    }
   },
   "outputs": [],
   "source": [
    "#Calculating Cosine Similarity between Users\n",
    "from sklearn.metrics import pairwise_distances\n",
    "from scipy.spatial.distance import cosine, correlation"
   ]
  },
  {
   "cell_type": "code",
   "execution_count": 33,
   "id": "477baf9e",
   "metadata": {
    "ExecuteTime": {
     "end_time": "2023-02-17T15:31:58.011567Z",
     "start_time": "2023-02-17T15:31:57.988580Z"
    }
   },
   "outputs": [
    {
     "data": {
      "text/html": [
       "<div>\n",
       "<style scoped>\n",
       "    .dataframe tbody tr th:only-of-type {\n",
       "        vertical-align: middle;\n",
       "    }\n",
       "\n",
       "    .dataframe tbody tr th {\n",
       "        vertical-align: top;\n",
       "    }\n",
       "\n",
       "    .dataframe thead th {\n",
       "        text-align: right;\n",
       "    }\n",
       "</style>\n",
       "<table border=\"1\" class=\"dataframe\">\n",
       "  <thead>\n",
       "    <tr style=\"text-align: right;\">\n",
       "      <th></th>\n",
       "      <th>rating</th>\n",
       "      <th>num of ratings</th>\n",
       "    </tr>\n",
       "    <tr>\n",
       "      <th>title</th>\n",
       "      <th></th>\n",
       "      <th></th>\n",
       "    </tr>\n",
       "  </thead>\n",
       "  <tbody>\n",
       "    <tr>\n",
       "      <th>Fahrenheit 451</th>\n",
       "      <td>7.000000</td>\n",
       "      <td>5</td>\n",
       "    </tr>\n",
       "    <tr>\n",
       "      <th>Ender's Game (Ender Wiggins Saga (Paperback))</th>\n",
       "      <td>6.250000</td>\n",
       "      <td>4</td>\n",
       "    </tr>\n",
       "    <tr>\n",
       "      <th>Stardust</th>\n",
       "      <td>8.500000</td>\n",
       "      <td>4</td>\n",
       "    </tr>\n",
       "    <tr>\n",
       "      <th>Vanished</th>\n",
       "      <td>6.500000</td>\n",
       "      <td>4</td>\n",
       "    </tr>\n",
       "    <tr>\n",
       "      <th>Charlie and the Chocolate Factory</th>\n",
       "      <td>6.500000</td>\n",
       "      <td>4</td>\n",
       "    </tr>\n",
       "    <tr>\n",
       "      <th>The Subtle Knife (His Dark Materials, Book 2)</th>\n",
       "      <td>8.750000</td>\n",
       "      <td>4</td>\n",
       "    </tr>\n",
       "    <tr>\n",
       "      <th>The Amber Spyglass (His Dark Materials, Book 3)</th>\n",
       "      <td>8.250000</td>\n",
       "      <td>4</td>\n",
       "    </tr>\n",
       "    <tr>\n",
       "      <th>The Golden Compass (His Dark Materials, Book 1)</th>\n",
       "      <td>8.333333</td>\n",
       "      <td>3</td>\n",
       "    </tr>\n",
       "    <tr>\n",
       "      <th>Pet Sematary</th>\n",
       "      <td>7.666667</td>\n",
       "      <td>3</td>\n",
       "    </tr>\n",
       "    <tr>\n",
       "      <th>My Side of the Mountain</th>\n",
       "      <td>8.000000</td>\n",
       "      <td>3</td>\n",
       "    </tr>\n",
       "  </tbody>\n",
       "</table>\n",
       "</div>"
      ],
      "text/plain": [
       "                                                   rating  num of ratings\n",
       "title                                                                    \n",
       "Fahrenheit 451                                   7.000000               5\n",
       "Ender's Game (Ender Wiggins Saga (Paperback))    6.250000               4\n",
       "Stardust                                         8.500000               4\n",
       "Vanished                                         6.500000               4\n",
       "Charlie and the Chocolate Factory                6.500000               4\n",
       "The Subtle Knife (His Dark Materials, Book 2)    8.750000               4\n",
       "The Amber Spyglass (His Dark Materials, Book 3)  8.250000               4\n",
       "The Golden Compass (His Dark Materials, Book 1)  8.333333               3\n",
       "Pet Sematary                                     7.666667               3\n",
       "My Side of the Mountain                          8.000000               3"
      ]
     },
     "execution_count": 33,
     "metadata": {},
     "output_type": "execute_result"
    }
   ],
   "source": [
    "ratings.sort_values('num of ratings',ascending=False).head(10)"
   ]
  },
  {
   "cell_type": "code",
   "execution_count": 34,
   "id": "afe6f109",
   "metadata": {
    "ExecuteTime": {
     "end_time": "2023-02-17T15:32:24.792115Z",
     "start_time": "2023-02-17T15:32:24.762709Z"
    }
   },
   "outputs": [
    {
     "data": {
      "text/html": [
       "<div>\n",
       "<style scoped>\n",
       "    .dataframe tbody tr th:only-of-type {\n",
       "        vertical-align: middle;\n",
       "    }\n",
       "\n",
       "    .dataframe tbody tr th {\n",
       "        vertical-align: top;\n",
       "    }\n",
       "\n",
       "    .dataframe thead th {\n",
       "        text-align: right;\n",
       "    }\n",
       "</style>\n",
       "<table border=\"1\" class=\"dataframe\">\n",
       "  <thead>\n",
       "    <tr style=\"text-align: right;\">\n",
       "      <th></th>\n",
       "      <th>ID</th>\n",
       "      <th>title</th>\n",
       "      <th>rating</th>\n",
       "    </tr>\n",
       "    <tr>\n",
       "      <th>index</th>\n",
       "      <th></th>\n",
       "      <th></th>\n",
       "      <th></th>\n",
       "    </tr>\n",
       "  </thead>\n",
       "  <tbody>\n",
       "    <tr>\n",
       "      <th>2400</th>\n",
       "      <td>8</td>\n",
       "      <td>Ancient Celtic Romances</td>\n",
       "      <td>5</td>\n",
       "    </tr>\n",
       "    <tr>\n",
       "      <th>2401</th>\n",
       "      <td>8</td>\n",
       "      <td>The Western way: A practical guide to the West...</td>\n",
       "      <td>5</td>\n",
       "    </tr>\n",
       "    <tr>\n",
       "      <th>2402</th>\n",
       "      <td>8</td>\n",
       "      <td>Wings</td>\n",
       "      <td>5</td>\n",
       "    </tr>\n",
       "    <tr>\n",
       "      <th>2403</th>\n",
       "      <td>8</td>\n",
       "      <td>Truckers</td>\n",
       "      <td>5</td>\n",
       "    </tr>\n",
       "    <tr>\n",
       "      <th>2404</th>\n",
       "      <td>8</td>\n",
       "      <td>Keepers of the Earth Teachers Guide</td>\n",
       "      <td>6</td>\n",
       "    </tr>\n",
       "    <tr>\n",
       "      <th>2405</th>\n",
       "      <td>8</td>\n",
       "      <td>The Celts Activity Book</td>\n",
       "      <td>6</td>\n",
       "    </tr>\n",
       "    <tr>\n",
       "      <th>2406</th>\n",
       "      <td>8</td>\n",
       "      <td>The Art Of Celtia</td>\n",
       "      <td>7</td>\n",
       "    </tr>\n",
       "    <tr>\n",
       "      <th>2410</th>\n",
       "      <td>14</td>\n",
       "      <td>COPS</td>\n",
       "      <td>5</td>\n",
       "    </tr>\n",
       "    <tr>\n",
       "      <th>2411</th>\n",
       "      <td>14</td>\n",
       "      <td>A Cold Heart: An Alex Delaware Novel</td>\n",
       "      <td>5</td>\n",
       "    </tr>\n",
       "    <tr>\n",
       "      <th>2412</th>\n",
       "      <td>14</td>\n",
       "      <td>Dead Sleep</td>\n",
       "      <td>6</td>\n",
       "    </tr>\n",
       "  </tbody>\n",
       "</table>\n",
       "</div>"
      ],
      "text/plain": [
       "       ID                                              title  rating\n",
       "index                                                               \n",
       "2400    8                            Ancient Celtic Romances       5\n",
       "2401    8  The Western way: A practical guide to the West...       5\n",
       "2402    8                                              Wings       5\n",
       "2403    8                                           Truckers       5\n",
       "2404    8                Keepers of the Earth Teachers Guide       6\n",
       "2405    8                            The Celts Activity Book       6\n",
       "2406    8                                  The Art Of Celtia       7\n",
       "2410   14                                               COPS       5\n",
       "2411   14               A Cold Heart: An Alex Delaware Novel       5\n",
       "2412   14                                         Dead Sleep       6"
      ]
     },
     "execution_count": 34,
     "metadata": {},
     "output_type": "execute_result"
    }
   ],
   "source": [
    "book[(book['ID']==8) | (book['ID']==14)]"
   ]
  },
  {
   "cell_type": "code",
   "execution_count": 35,
   "id": "0df98ebd",
   "metadata": {
    "ExecuteTime": {
     "end_time": "2023-02-17T15:32:45.126410Z",
     "start_time": "2023-02-17T15:32:45.096266Z"
    }
   },
   "outputs": [
    {
     "data": {
      "text/html": [
       "<div>\n",
       "<style scoped>\n",
       "    .dataframe tbody tr th:only-of-type {\n",
       "        vertical-align: middle;\n",
       "    }\n",
       "\n",
       "    .dataframe tbody tr th {\n",
       "        vertical-align: top;\n",
       "    }\n",
       "\n",
       "    .dataframe thead th {\n",
       "        text-align: right;\n",
       "    }\n",
       "</style>\n",
       "<table border=\"1\" class=\"dataframe\">\n",
       "  <thead>\n",
       "    <tr style=\"text-align: right;\">\n",
       "      <th></th>\n",
       "      <th>ID</th>\n",
       "      <th>title</th>\n",
       "      <th>rating</th>\n",
       "    </tr>\n",
       "    <tr>\n",
       "      <th>index</th>\n",
       "      <th></th>\n",
       "      <th></th>\n",
       "      <th></th>\n",
       "    </tr>\n",
       "  </thead>\n",
       "  <tbody>\n",
       "    <tr>\n",
       "      <th>2400</th>\n",
       "      <td>8</td>\n",
       "      <td>Ancient Celtic Romances</td>\n",
       "      <td>5</td>\n",
       "    </tr>\n",
       "    <tr>\n",
       "      <th>2401</th>\n",
       "      <td>8</td>\n",
       "      <td>The Western way: A practical guide to the West...</td>\n",
       "      <td>5</td>\n",
       "    </tr>\n",
       "    <tr>\n",
       "      <th>2402</th>\n",
       "      <td>8</td>\n",
       "      <td>Wings</td>\n",
       "      <td>5</td>\n",
       "    </tr>\n",
       "    <tr>\n",
       "      <th>2403</th>\n",
       "      <td>8</td>\n",
       "      <td>Truckers</td>\n",
       "      <td>5</td>\n",
       "    </tr>\n",
       "    <tr>\n",
       "      <th>2404</th>\n",
       "      <td>8</td>\n",
       "      <td>Keepers of the Earth Teachers Guide</td>\n",
       "      <td>6</td>\n",
       "    </tr>\n",
       "    <tr>\n",
       "      <th>2405</th>\n",
       "      <td>8</td>\n",
       "      <td>The Celts Activity Book</td>\n",
       "      <td>6</td>\n",
       "    </tr>\n",
       "    <tr>\n",
       "      <th>2406</th>\n",
       "      <td>8</td>\n",
       "      <td>The Art Of Celtia</td>\n",
       "      <td>7</td>\n",
       "    </tr>\n",
       "    <tr>\n",
       "      <th>2410</th>\n",
       "      <td>14</td>\n",
       "      <td>COPS</td>\n",
       "      <td>5</td>\n",
       "    </tr>\n",
       "    <tr>\n",
       "      <th>2411</th>\n",
       "      <td>14</td>\n",
       "      <td>A Cold Heart: An Alex Delaware Novel</td>\n",
       "      <td>5</td>\n",
       "    </tr>\n",
       "    <tr>\n",
       "      <th>2412</th>\n",
       "      <td>14</td>\n",
       "      <td>Dead Sleep</td>\n",
       "      <td>6</td>\n",
       "    </tr>\n",
       "  </tbody>\n",
       "</table>\n",
       "</div>"
      ],
      "text/plain": [
       "       ID                                              title  rating\n",
       "index                                                               \n",
       "2400    8                            Ancient Celtic Romances       5\n",
       "2401    8  The Western way: A practical guide to the West...       5\n",
       "2402    8                                              Wings       5\n",
       "2403    8                                           Truckers       5\n",
       "2404    8                Keepers of the Earth Teachers Guide       6\n",
       "2405    8                            The Celts Activity Book       6\n",
       "2406    8                                  The Art Of Celtia       7\n",
       "2410   14                                               COPS       5\n",
       "2411   14               A Cold Heart: An Alex Delaware Novel       5\n",
       "2412   14                                         Dead Sleep       6"
      ]
     },
     "execution_count": 35,
     "metadata": {},
     "output_type": "execute_result"
    }
   ],
   "source": [
    "book[(book['ID']==8) | (book['ID']==14)]"
   ]
  },
  {
   "cell_type": "code",
   "execution_count": 36,
   "id": "54f135c0",
   "metadata": {
    "ExecuteTime": {
     "end_time": "2023-02-17T15:33:31.847873Z",
     "start_time": "2023-02-17T15:33:31.822989Z"
    }
   },
   "outputs": [],
   "source": [
    "def give_reco(customer_id):\n",
    "    tem = list(book.sort_values([customer_id],ascending=False).head(100).index)\n",
    "    #print('similar customer ids:',tem)\n",
    "    movie_list=[]\n",
    "    for i in tem:\n",
    "        movie_list=movie_list+list(book[book['ID']==i]['title'])\n",
    "    #print('Common movies within customer',movie_list)\n",
    "    return set(movie_list)-set(book[book['ID']==customer_id]['title'])"
   ]
  },
  {
   "cell_type": "code",
   "execution_count": null,
   "id": "f69e570c",
   "metadata": {},
   "outputs": [],
   "source": []
  }
 ],
 "metadata": {
  "kernelspec": {
   "display_name": "Python 3 (ipykernel)",
   "language": "python",
   "name": "python3"
  },
  "language_info": {
   "codemirror_mode": {
    "name": "ipython",
    "version": 3
   },
   "file_extension": ".py",
   "mimetype": "text/x-python",
   "name": "python",
   "nbconvert_exporter": "python",
   "pygments_lexer": "ipython3",
   "version": "3.9.13"
  }
 },
 "nbformat": 4,
 "nbformat_minor": 5
}
